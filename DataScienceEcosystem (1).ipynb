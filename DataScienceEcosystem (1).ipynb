{
 "cells": [
  {
   "cell_type": "markdown",
   "id": "577fca07-f96a-48bb-86be-3adebf57f355",
   "metadata": {},
   "source": [
    "# Data Science Tools and Ecosystem"
   ]
  },
  {
   "cell_type": "markdown",
   "id": "c1fc5e39-5877-4429-92c0-94e871ac8997",
   "metadata": {},
   "source": [
    "In this notebook, data science tools and ecosystems are summarized"
   ]
  },
  {
   "cell_type": "markdown",
   "id": "57141e00-07e3-49f2-84ca-b103c806d3d3",
   "metadata": {},
   "source": [
    "**Objective**\n",
    "1. List popular languages of data science.\n",
    "2. list popular libtraries used by data scientist.\n",
    "3. List popular tools used by data scientist."
   ]
  },
  {
   "cell_type": "markdown",
   "id": "4536fc59-4c50-43e0-981a-fd1638a2ad8c",
   "metadata": {},
   "source": [
    "Some of the popular languages that data scientist use are:\n",
    "1. Python\n",
    "2. R\n",
    "3. julia\n",
    "4. C++\n",
    "5. Javascript"
   ]
  },
  {
   "cell_type": "markdown",
   "id": "5b304a21-6bb3-4486-a927-5ea12604398e",
   "metadata": {},
   "source": [
    "Some of the commonly used libraries used by data scientist are:\n",
    "1. Numpy\n",
    "2. Pandas\n",
    "3. Matplotlib\n",
    "4. Tensorflow\n",
    "5. scikit_learn"
   ]
  },
  {
   "cell_type": "markdown",
   "id": "1caba953-2b20-40e9-a0a1-39f7833501c7",
   "metadata": {},
   "source": [
    "| Data Science tools|\n",
    "|--------|\n",
    "| Jupiter Notebook|\n",
    "| RStudio |\n",
    "| Google Ccolaboraty|"
   ]
  },
  {
   "cell_type": "markdown",
   "id": "386b5f06-6cfb-474a-9fe8-3d5a59a00722",
   "metadata": {},
   "source": [
    "### Bellow are a few examples of evaluating arithmetic operations in python:\n",
    "1. 5+3\n",
    "2. 5-3\n",
    "3. (5+3)/4\n",
    "4. (5-3)*2"
   ]
  },
  {
   "cell_type": "code",
   "execution_count": 25,
   "id": "7f34c01f-09ed-40c0-a4ab-d5925278376b",
   "metadata": {},
   "outputs": [
    {
     "data": {
      "text/plain": [
       "17"
      ]
     },
     "execution_count": 25,
     "metadata": {},
     "output_type": "execute_result"
    }
   ],
   "source": [
    "(3*4)+5\n",
    "# this is a simple arithmetics expression to multiply and then add integers."
   ]
  },
  {
   "cell_type": "code",
   "execution_count": 45,
   "id": "885f62c5-ebce-4118-9c07-8a9af85646ad",
   "metadata": {},
   "outputs": [
    {
     "name": "stdout",
     "output_type": "stream",
     "text": [
      "200minutes is equal to 3.333hours\n"
     ]
    }
   ],
   "source": [
    "# This will convert 200 minutes into hours by dividing by 60\n",
    "minutes=200\n",
    "hours = minutes/60\n",
    "print(f'{minutes}minutes is equal to {hours:.3f}hours')"
   ]
  },
  {
   "cell_type": "markdown",
   "id": "0c98c07f-ff13-427b-b650-16f9226eb4d5",
   "metadata": {},
   "source": [
    "## Author\n",
    "Nketchio Asah Hyacinthe"
   ]
  },
  {
   "cell_type": "code",
   "execution_count": null,
   "id": "7b88f9cb-c33f-4a07-8d96-435df1dfbf25",
   "metadata": {},
   "outputs": [],
   "source": []
  }
 ],
 "metadata": {
  "kernelspec": {
   "display_name": "Python [conda env:Anaconda3] *",
   "language": "python",
   "name": "conda-env-Anaconda3-py"
  },
  "language_info": {
   "codemirror_mode": {
    "name": "ipython",
    "version": 3
   },
   "file_extension": ".py",
   "mimetype": "text/x-python",
   "name": "python",
   "nbconvert_exporter": "python",
   "pygments_lexer": "ipython3",
   "version": "3.12.7"
  }
 },
 "nbformat": 4,
 "nbformat_minor": 5
}
